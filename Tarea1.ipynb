{
 "cells": [
  {
   "cell_type": "markdown",
   "metadata": {},
   "source": [
    "Expectativas del Curso"
   ]
  },
  {
   "cell_type": "markdown",
   "metadata": {
    "collapsed": true
   },
   "source": [
    " Angel:"
   ]
  },
  {
   "cell_type": "markdown",
   "metadata": {},
   "source": [
    " Mis expectativas del curso son altas, ya que considero que simular es una gran herramienta para disminuir los costos de cualquier tipo de proyecto. \n",
    " En nuestro caso como financieros, sería de finanzas."
   ]
  },
  {
   "cell_type": "markdown",
   "metadata": {
    "collapsed": true
   },
   "source": [
    "# Expectativas de Adrian Garcia\n",
    "\n",
    "\n",
    "Las expectativas que tengo del curso es que pueda mejorar mi habilidad de programacion y obtenga experiencia con las herramientas github y gitkraken.\n",
    "\n"
   ]
  }
 ],
 "metadata": {
  "kernelspec": {
   "display_name": "Python 3",
   "language": "python",
   "name": "python3"
  },
  "language_info": {
   "codemirror_mode": {
    "name": "ipython",
    "version": 3
   },
   "file_extension": ".py",
   "mimetype": "text/x-python",
   "name": "python",
   "nbconvert_exporter": "python",
   "pygments_lexer": "ipython3",
   "version": "3.6.1"
  }
 },
 "nbformat": 4,
 "nbformat_minor": 2
}
